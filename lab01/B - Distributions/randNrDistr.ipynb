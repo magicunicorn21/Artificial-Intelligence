{
 "cells": [
  {
   "cell_type": "code",
   "execution_count": 8,
   "metadata": {},
   "outputs": [],
   "source": [
    "import seaborn as sns\n",
    "sns.set(color_codes=True)\n",
    "sns.set(rc={'figure.figsize':(5,5)})\n",
    "from scipy.stats import norm\n",
    "from scipy.stats import uniform\n",
    "import matplotlib.pyplot as plt\n",
    "import numpy as np\n",
    "from scipy.stats import truncnorm\n",
    "import matplotlib.pyplot as plt"
   ]
  },
  {
   "cell_type": "code",
   "execution_count": 9,
   "metadata": {},
   "outputs": [],
   "source": [
    "def get_truncated_normal(mean=0, sd=1, low=0, upp=10):\n",
    "    return truncnorm(\n",
    "        (low - mean) / sd, (upp - mean) / sd, loc=mean, scale=sd)"
   ]
  },
  {
   "cell_type": "code",
   "execution_count": 10,
   "metadata": {},
   "outputs": [],
   "source": [
    "def normDist(size, low, upp):\n",
    "    X1 = get_truncated_normal(mean=2, sd=1, low=1, upp=10)\n",
    "    fig, ax = plt.subplots(3, sharex=True)\n",
    "    ax[0].hist(X1.rvs(size), normed=True)\n",
    "    plt.show()"
   ]
  },
  {
   "cell_type": "code",
   "execution_count": 11,
   "metadata": {},
   "outputs": [],
   "source": [
    "def uniDist(size, x, y):\n",
    "    s = np.random.uniform(x,y,size)\n",
    "    count, bins, ignored = plt.hist(s, 15, normed=True)\n",
    "    plt.plot(bins, np.ones_like(bins), linewidth=2, color='r')\n",
    "    plt.show()"
   ]
  },
  {
   "cell_type": "code",
   "execution_count": 12,
   "metadata": {},
   "outputs": [],
   "source": [
    "def normalDist(size, x, y):\n",
    "    data_normal = norm.rvs(size=size,loc=(y - x) / 2,scale=1)\n",
    "\n",
    "    ax = sns.distplot(data_normal,\n",
    "                      bins=100,\n",
    "                      kde=True,\n",
    "                      color='skyblue',\n",
    "                      hist_kws={\"linewidth\": 15,'alpha':1})\n",
    "    ax.set(xlabel='Normal Distribution', ylabel='Frequency')"
   ]
  },
  {
   "cell_type": "code",
   "execution_count": 13,
   "metadata": {},
   "outputs": [],
   "source": [
    "def uniformDist(size, x, y):\n",
    "    data_uniform = uniform.rvs(size = size, loc = (y - x) / 2, scale = 1)\n",
    "    \n",
    "    ax = sns.distplot(data_uniform,\n",
    "                      bins=100,\n",
    "                      kde=True,\n",
    "                      color='red',\n",
    "                      hist_kws={\"linewidth\": 15,'alpha':1})\n",
    "    ax.set(xlabel='Uniform Distribution ', ylabel='Frequency')"
   ]
  },
  {
   "cell_type": "code",
   "execution_count": 17,
   "metadata": {},
   "outputs": [
    {
     "name": "stdout",
     "output_type": "stream",
     "text": [
      "************MAIN MENU**************\n",
      "\n",
      "\n",
      "                      A: Normal Distribution\n",
      "                      B: Uniform Distribution\n",
      "\n",
      "                      Please enter your choice: b\n",
      "Please give the size: 1000\n",
      "Please give the x: 0\n",
      "Please give the y: 1\n"
     ]
    },
    {
     "name": "stderr",
     "output_type": "stream",
     "text": [
      "C:\\Users\\Marius\\Anaconda3\\envs\\laboratories\\lib\\site-packages\\ipykernel_launcher.py:3: MatplotlibDeprecationWarning: \n",
      "The 'normed' kwarg was deprecated in Matplotlib 2.1 and will be removed in 3.1. Use 'density' instead.\n",
      "  This is separate from the ipykernel package so we can avoid doing imports until\n"
     ]
    },
    {
     "data": {
      "image/png": "[encoded data removed]",
      "text/plain": [
       "<Figure size 360x360 with 1 Axes>"
      ]
     },
     "metadata": {},
     "output_type": "display_data"
    }
   ],
   "source": [
    "def menu():\n",
    "    print(\"************MAIN MENU**************\")\n",
    "    #time.sleep(1)\n",
    "    print()\n",
    "\n",
    "    choice = input(\"\"\"\n",
    "                      A: Normal Distribution\n",
    "                      B: Uniform Distribution\n",
    "\n",
    "                      Please enter your choice: \"\"\")\n",
    "\n",
    "    if choice == \"A\" or choice ==\"a\":\n",
    "        size = int(input(\"Please give the size: \"))\n",
    "        x = int(input(\"Please give the x: \"))\n",
    "        y = int(input(\"Please give the y: \"))\n",
    "        normalDist(size, x, y)\n",
    "        #normDist(size, x, y)\n",
    "    elif choice == \"B\" or choice ==\"b\":\n",
    "        size = int(input(\"Please give the size: \"))\n",
    "        x = int(input(\"Please give the x: \"))\n",
    "        y = int(input(\"Please give the y: \"))\n",
    "        uniDist(size, x, y)\n",
    "    elif choice==\"Q\" or choice==\"q\":\n",
    "        sys.exit\n",
    "    else:\n",
    "        print(\"You must only select either A,B\")\n",
    "        print(\"Please try again\")\n",
    "        \n",
    "menu()"
   ]
  },
  {
   "cell_type": "code",
   "execution_count": null,
   "metadata": {},
   "outputs": [],
   "source": []
  }
 ],
 "metadata": {
  "kernelspec": {
   "display_name": "Python 3",
   "language": "python",
   "name": "python3"
  },
  "language_info": {
   "codemirror_mode": {
    "name": "ipython",
    "version": 3
   },
   "file_extension": ".py",
   "mimetype": "text/x-python",
   "name": "python",
   "nbconvert_exporter": "python",
   "pygments_lexer": "ipython3",
   "version": "3.7.6"
  }
 },
 "nbformat": 4,
 "nbformat_minor": 4
}
