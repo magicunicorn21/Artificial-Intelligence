{
 "cells": [
  {
   "cell_type": "code",
   "execution_count": null,
   "metadata": {},
   "outputs": [],
   "source": [
    "import seaborn as sns\n",
    "sns.set(color_codes=True)\n",
    "sns.set(rc={'figure.figsize':(5,5)})\n",
    "from scipy.stats import norm\n",
    "from scipy.stats import uniform"
   ]
  },
  {
   "cell_type": "code",
   "execution_count": null,
   "metadata": {},
   "outputs": [],
   "source": [
    "def normalDist(size, loc, scale):\n",
    "    data_normal = norm.rvs(size=size,loc=(scale - loc) / 2,scale=1)\n",
    "\n",
    "    ax = sns.distplot(data_normal,\n",
    "                      bins=100,\n",
    "                      kde=True,\n",
    "                      color='skyblue',\n",
    "                      hist_kws={\"linewidth\": 15,'alpha':1})\n",
    "    ax.set(xlabel='Normal Distribution', ylabel='Frequency')"
   ]
  },
  {
   "cell_type": "code",
   "execution_count": null,
   "metadata": {},
   "outputs": [],
   "source": [
    "def uniformDist(s, l, sc):\n",
    "    data_uniform = uniform.rvs(loc=l,scale=sc,size=s)\n",
    "    \n",
    "    ax = sns.distplot(data_uniform,\n",
    "                      bins=100,\n",
    "                      kde=True,\n",
    "                      color='red',\n",
    "                      hist_kws={\"linewidth\": 15,'alpha':1})\n",
    "    ax.set(xlabel='Uniform Distribution ', ylabel='Frequency')"
   ]
  },
  {
   "cell_type": "code",
   "execution_count": null,
   "metadata": {},
   "outputs": [],
   "source": [
    "def menu():\n",
    "    print(\"************MAIN MENU**************\")\n",
    "    #time.sleep(1)\n",
    "    print()\n",
    "\n",
    "    choice = input(\"\"\"\n",
    "                      A: Normal Distribution\n",
    "                      B: Uniform Distribution\n",
    "\n",
    "                      Please enter your choice: \"\"\")\n",
    "\n",
    "    if choice == \"A\" or choice ==\"a\":\n",
    "        size = int(input(\"Please give the size: \"))\n",
    "        loc = int(input(\"Please give the x: \"))\n",
    "        scale = int(input(\"Please give the y: \"))\n",
    "        normalDist(size, loc, scale)\n",
    "    elif choice == \"B\" or choice ==\"b\":\n",
    "        size = int(input(\"Please give the size: \"))\n",
    "        loc = int(input(\"Please give the loc: \"))\n",
    "        scale = int(input(\"Please give the scale: \"))\n",
    "        uniformDist(size, loc, scale)\n",
    "    elif choice==\"Q\" or choice==\"q\":\n",
    "        sys.exit\n",
    "    else:\n",
    "        print(\"You must only select either A,B\")\n",
    "        print(\"Please try again\")"
   ]
  },
  {
   "cell_type": "code",
   "execution_count": null,
   "metadata": {},
   "outputs": [],
   "source": [
    "menu()"
   ]
  },
  {
   "cell_type": "code",
   "execution_count": null,
   "metadata": {},
   "outputs": [],
   "source": []
  },
  {
   "cell_type": "code",
   "execution_count": null,
   "metadata": {},
   "outputs": [],
   "source": []
  },
  {
   "cell_type": "code",
   "execution_count": null,
   "metadata": {},
   "outputs": [],
   "source": []
  }
 ],
 "metadata": {
  "kernelspec": {
   "display_name": "Python 3",
   "language": "python",
   "name": "python3"
  },
  "language_info": {
   "codemirror_mode": {
    "name": "ipython",
    "version": 3
   },
   "file_extension": ".py",
   "mimetype": "text/x-python",
   "name": "python",
   "nbconvert_exporter": "python",
   "pygments_lexer": "ipython3",
   "version": "3.7.6"
  }
 },
 "nbformat": 4,
 "nbformat_minor": 4
}
